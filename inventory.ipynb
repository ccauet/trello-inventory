{
 "cells": [
  {
   "cell_type": "code",
   "execution_count": null,
   "metadata": {},
   "outputs": [],
   "source": [
    "import trello\n",
    "import pandas as pd\n",
    "from trello import TrelloClient\n",
    "from credentials import API_KEY, API_SECRET, USER_TOKEN, USER_SECRET\n",
    "\n",
    "%matplotlib inline"
   ]
  },
  {
   "cell_type": "code",
   "execution_count": null,
   "metadata": {
    "collapsed": true
   },
   "outputs": [],
   "source": [
    "client = TrelloClient(api_key=API_KEY, api_secret=API_SECRET, token=USER_TOKEN, token_secret=USER_SECRET)"
   ]
  },
  {
   "cell_type": "code",
   "execution_count": null,
   "metadata": {},
   "outputs": [],
   "source": [
    "board = client.get_board('59736ff65dbc1cf01eafe69a')\n",
    "labels = board.get_labels()"
   ]
  },
  {
   "cell_type": "code",
   "execution_count": null,
   "metadata": {},
   "outputs": [],
   "source": [
    "active = board.get_list('59736ff9ba9975dd4ef599f5')"
   ]
  },
  {
   "cell_type": "code",
   "execution_count": null,
   "metadata": {},
   "outputs": [],
   "source": [
    "def create_df(data):\n",
    "    print(type(data))\n",
    "    cards = []\n",
    "    if isinstance(data, trello.trellolist.List):\n",
    "        # loop over cards\n",
    "        for card in data.list_cards():\n",
    "            j = {\n",
    "                '_id': card.id,\n",
    "                'name': card.name,\n",
    "                'size': 0,\n",
    "                'num': 1,\n",
    "                'owner': None,\n",
    "                'len': None,\n",
    "                'season': 'summer',\n",
    "                'type': None,\n",
    "                'wash': None,\n",
    "                'labels': []\n",
    "            }\n",
    "            for label in card.labels:\n",
    "                cat, value = label.name.split(':')\n",
    "                if cat == 'num':\n",
    "                    j[cat] = int(value)\n",
    "                else:\n",
    "                    j[cat] = value\n",
    "                j['labels'].append(label.name)\n",
    "            cards.append(j)\n",
    "    df = pd.DataFrame(data=cards)\n",
    "    return df"
   ]
  },
  {
   "cell_type": "code",
   "execution_count": null,
   "metadata": {},
   "outputs": [],
   "source": [
    "df = create_df(active)"
   ]
  },
  {
   "cell_type": "code",
   "execution_count": null,
   "metadata": {},
   "outputs": [],
   "source": [
    "df.groupby('type').sum().num"
   ]
  },
  {
   "cell_type": "code",
   "execution_count": null,
   "metadata": {
    "collapsed": true
   },
   "outputs": [],
   "source": []
  }
 ],
 "metadata": {
  "kernelspec": {
   "display_name": "Python 3",
   "language": "python",
   "name": "python3"
  },
  "language_info": {
   "codemirror_mode": {
    "name": "ipython",
    "version": 3
   },
   "file_extension": ".py",
   "mimetype": "text/x-python",
   "name": "python",
   "nbconvert_exporter": "python",
   "pygments_lexer": "ipython3",
   "version": "3.6.1"
  }
 },
 "nbformat": 4,
 "nbformat_minor": 2
}
